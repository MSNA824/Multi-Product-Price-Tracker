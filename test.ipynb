from urllib.parse import urlparse

def clean_amazon_url(url):
    parsed = urlparse(url)
    # Split the path into parts
    path_parts = parsed.path.split('/')
    
    # Find the 'dp' part and the next part (which is the ASIN/Product ID)
    if 'dp' in path_parts:
        dp_index = path_parts.index('dp')
        product_id = path_parts[dp_index + 1]
        clean_url = f"https://{parsed.netloc}/dp/{product_id}"
        return clean_url
    else:
        return None  # Return None if 'dp' is not found

# Example usage
dirty_url = "https://www.amazon.com/Apple-iPhone-15-256GB-Blue/dp/B0CMPKH7WT/ref=sr_1_1?dib=eyJ2IjoiMSJ9..."
clean_url = clean_amazon_url(dirty_url)
print(clean_url)
